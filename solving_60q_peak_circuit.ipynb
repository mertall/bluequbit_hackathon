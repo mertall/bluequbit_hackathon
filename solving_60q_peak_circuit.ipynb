{
 "cells": [
  {
   "cell_type": "markdown",
   "id": "f2251ed4-65f6-4128-875d-b4ca2f9ed2c6",
   "metadata": {},
   "source": [
    "# 🧠 Lightweight solution to a 'Peak' Quantum Circuit with Tensor Networks\n",
    "\n",
    "This notebook was developed after a quantum hackathon hosted by BlueQubit, a Series A startup focused on making quantum computing accessible across various platforms. Their toolset allows for a unified development environment, abstracting hardware and simulators so teams can focus on circuit logic.\n",
    "\n",
    "Our objective here is to simulate a 60-qubit quantum circuit where one dominant bitstring occurs with O(1) probability, while all others are exponentially less likely. We use tensor networks to do this efficiently, with help from:\n",
    "\n",
    "- `Quimb`: constructs and simulates quantum circuits as tensor networks.\n",
    "- `Cotengra`: finds optimal contraction paths for the tensor network.\n",
    "- A majority vote mechanism to identify the most likely bitstring through sampling.\n",
    "\n",
    "Throughout this notebook, I explore technical decisions and implementation challenges, and reflect on why certain methods worked better than expected."
   ]
  },
  {
   "cell_type": "markdown",
   "id": "4eb1a75d",
   "metadata": {},
   "source": [
    "# 📦 Import Required Libraries\n",
    "\n",
    "We’ll use the following tools:\n",
    "\n",
    "- `quimb.tensor` to define the circuit and convert it into a tensor network.\n",
    "- `cotengra` to optimize the contraction path, which becomes critical at scale.\n",
    "- `numpy`, `collections.defaultdict` for general data handling.\n",
    "- `multiprocessing` and `time` to help with runtime tracking and performance tuning.\n",
    "\n",
    "Each of these plays a role in making large quantum simulations practical."
   ]
  },
  {
   "cell_type": "code",
   "execution_count": 1,
   "id": "02fa653e-ab69-4d8a-b960-b87b9a1f3376",
   "metadata": {},
   "outputs": [],
   "source": [
    "import quimb.tensor as qtn\n",
    "import numpy as np\n",
    "import cotengra as ctg\n",
    "from collections import defaultdict\n",
    "from multiprocessing import freeze_support\n",
    "import time"
   ]
  },
  {
   "cell_type": "markdown",
   "id": "ecd9988d",
   "metadata": {},
   "source": [
    "### ⏱️ Format Timing Output\n",
    "\n",
    "This utility function makes runtime output more human-readable. It’s a minor touch, but helpful for tracking performance at different stages of simulation and optimization."
   ]
  },
  {
   "cell_type": "code",
   "execution_count": 2,
   "id": "eb70c9ad-9250-454a-8fd9-742146b0d4d3",
   "metadata": {},
   "outputs": [],
   "source": [
    "def format_time(seconds):\n",
    "    \"\"\"Return a formatted string for a time duration in minutes and seconds if > 60 sec, otherwise in seconds.\"\"\"\n",
    "    if seconds < 60:\n",
    "        return f\"{seconds:.2f} seconds\"\n",
    "    else:\n",
    "        minutes = int(seconds // 60)\n",
    "        rem_seconds = seconds % 60\n",
    "        return f\"{minutes} minutes {rem_seconds:.2f} seconds\""
   ]
  },
  {
   "cell_type": "markdown",
   "id": "d6bffe15",
   "metadata": {},
   "source": [
    "### 🗳️ Determine Dominant Bitstring via Majority Vote\n",
    "\n",
    "The function `compute_majority_vote` aggregates sampled bitstrings to extract the most frequent bit at each position.\n",
    "\n",
    "> Initially, I was skeptical about this working reliably. But reframing the hidden bitstring as a strong signal amidst weak noise led me to this majority vote logic. It’s simple. We treat each position independently and aggregate statistics across many samples.\n",
    "> You will need to add some guardrails if looking for string without knowing its value. Either inserting a value as a tie breaker, or not allowing tie breakers to take place and pushing to next iteration to see if it resolves."
   ]
  },
  {
   "cell_type": "code",
   "execution_count": 3,
   "id": "331bd771-4386-42ce-9fbc-8d2bf53ffaf6",
   "metadata": {},
   "outputs": [],
   "source": [
    "def compute_majority_vote(bit_counts, num_qubits):\n",
    "    \"\"\"Return the majority vote bitstring from current per-position counts.\"\"\"\n",
    "    final_bits = []\n",
    "    for i in range(num_qubits):\n",
    "        count_0 = bit_counts[i].get('0', 0)\n",
    "        count_1 = bit_counts[i].get('1', 0)\n",
    "        # In case of a tie, choose '1'\n",
    "        final_bits.append('1' if count_1 > count_0 else '0')\n",
    "    return ''.join(final_bits)\n"
   ]
  },
  {
   "cell_type": "markdown",
   "id": "b3c94605",
   "metadata": {},
   "source": [
    "### ⌛ Begin Benchmarking\n",
    "\n",
    "We use this timing block to measure the total wall-clock time for our full workflow—from circuit loading to final sampling and bitstring extraction."
   ]
  },
  {
   "cell_type": "code",
   "execution_count": 4,
   "id": "89632f16-17e7-4f0d-b0db-e57e2d142378",
   "metadata": {},
   "outputs": [],
   "source": [
    "overall_start = time.perf_counter()"
   ]
  },
  {
   "cell_type": "markdown",
   "id": "53164b69",
   "metadata": {},
   "source": [
    "### 🧠 Load the 60-Qubit Circuit\n",
    "\n",
    "Here, we initialize the 60-qubit circuit and load it from an OpenQASM file into a tensor network using Quimb.\n",
    "\n",
    "> You'll likely encounter some warnings from Quimb’s QASM parser. These can be safely ignored in this case, as they don’t affect the resulting tensor network structure."
   ]
  },
  {
   "cell_type": "code",
   "execution_count": 5,
   "id": "facda4e2-acee-4f9c-93a9-3870263357be",
   "metadata": {},
   "outputs": [
    {
     "name": "stdout",
     "output_type": "stream",
     "text": [
      "Loading circuit...\n"
     ]
    },
    {
     "name": "stderr",
     "output_type": "stream",
     "text": [
      "/Users/mridul.sarkar/Documents/BlueQubitHackathon/venv/lib/python3.9/site-packages/quimb/tensor/circuit.py:221: SyntaxWarning: Unsupported operation ignored: creg\n",
      "  warnings.warn(\n",
      "/Users/mridul.sarkar/Documents/BlueQubitHackathon/venv/lib/python3.9/site-packages/quimb/tensor/circuit.py:221: SyntaxWarning: Unsupported operation ignored: measure\n",
      "  warnings.warn(\n"
     ]
    },
    {
     "name": "stdout",
     "output_type": "stream",
     "text": [
      "Circuit loaded.\n",
      "\n",
      "Loading circuit took 0.83 seconds.\n"
     ]
    }
   ],
   "source": [
    "# Setup: Initialize the circuit with 60 qubits and load the QASM file.\n",
    "circ = qtn.Circuit(N=60)\n",
    "print(\"Loading circuit...\")\n",
    "load_start = time.perf_counter()\n",
    "tensor_network_circuit = circ.from_openqasm2_file(\n",
    "    './circuit_3_60q.qasm'\n",
    ")\n",
    "load_end = time.perf_counter()\n",
    "print(\"Circuit loaded.\\n\")\n",
    "print(f\"Loading circuit took {format_time(load_end - load_start)}.\")"
   ]
  },
  {
   "cell_type": "markdown",
   "id": "cc186bdf",
   "metadata": {},
   "source": [
    "### 🧮 Set Up Cotengra Contraction Optimizer\n",
    "\n",
    "We configure Cotengra's optimizer to find efficient paths for contracting the tensor network.\n",
    "\n",
    "> This step was surprisingly insightful. I compared different optimizers (`nevergrad`, `cmaes`, `random`) but found `optuna` worked the best. I need to study these optimizer a bit more to study trade off. It takes a while to run so will need to leverage GPUs for that work to make it go faster."
   ]
  },
  {
   "cell_type": "code",
   "execution_count": 6,
   "id": "2df6db83-836d-47d5-9b07-ab7f7994f911",
   "metadata": {},
   "outputs": [
    {
     "name": "stdout",
     "output_type": "stream",
     "text": [
      "Setting up contraction optimizer...\n",
      "Done setting up contraction optimizer.\n"
     ]
    }
   ],
   "source": [
    "# Setup the contraction optimizer using cotengra.\n",
    "print(\"Setting up contraction optimizer...\")\n",
    "opt_start = time.perf_counter()\n",
    "opt = ctg.ReusableHyperOptimizer(\n",
    "    parallel=True,\n",
    "    optlib=\"optuna\",\n",
    "    max_time=\"rate:1e8\",  # Limit optimization time.\n",
    "    directory=True,\n",
    "    progbar=True,\n",
    ")\n",
    "opt_end = time.perf_counter()\n",
    "print(\"Done setting up contraction optimizer.\")"
   ]
  },
  {
   "cell_type": "markdown",
   "id": "921c1200-2344-4a15-a319-1faf40f2d751",
   "metadata": {},
   "source": [
    "### 🎯 Define Target Bitstring\n",
    "\n",
    "This bitstring is expected to dominate the probability distribution after circuit execution. Including it allows us to verify our majority vote or compare results from simulation to theoretical expectations.\n",
    "\n",
    "> Optional, but handy for debugging and benchmarking against known expected outcomes.\n",
    "\n",
    "Sets a number of variables that can be changed depending on computational power available. Below are parameters for lightweight computation.\n"
   ]
  },
  {
   "cell_type": "code",
   "execution_count": 7,
   "id": "83c56bca-b58d-42b9-8abc-70adce015272",
   "metadata": {},
   "outputs": [],
   "source": [
    "# Define target bitstring and number of qubits.\n",
    "target_bitstring = \"110101001011010101111001011100001110101101111010100110110001\"\n",
    "num_qubits = 60\n",
    "sample_size = 1\n",
    "group_size = 5\n",
    "simplify_sequence = \"ADCRS\"\n",
    "subset_num_qubits = 1  # One sample per batch."
   ]
  },
  {
   "cell_type": "markdown",
   "id": "78ef3c50",
   "metadata": {},
   "source": [
    "### 🔍 Optimize Sampling Strategy\n",
    "\n",
    "We rehearse contraction paths for all marginal distributions we’ll need during sampling. This makes actual sampling much faster later on.\n",
    "\n",
    "> This step felt like prepping a lookup table for all future measurements. Quimb’s design makes it very intuitive to offload this complexity while still having fine-grained control. Definitely something to carry forward when designing future tensor-based simulations."
   ]
  },
  {
   "cell_type": "code",
   "execution_count": 8,
   "id": "2cfdbf5b-a5a6-4833-b287-21c869870ea5",
   "metadata": {},
   "outputs": [
    {
     "name": "stdout",
     "output_type": "stream",
     "text": [
      "Optimizing contraction path...\n",
      "Contraction path optimization took 2 minutes 17.19 seconds.\n"
     ]
    }
   ],
   "source": [
    "# Rehearse the sampling path (pre-optimizes contraction paths for each marginal).\n",
    "print(\"Optimizing contraction path...\")\n",
    "path_opt_start = time.perf_counter()\n",
    "rehs = tensor_network_circuit.sample_gate_by_gate_rehearse(\n",
    "    group_size=group_size,\n",
    "    optimize=opt,\n",
    "    simplify_sequence=simplify_sequence  # Using \"ADCRS\" for simplification.\n",
    ")\n",
    "path_opt_end = time.perf_counter()\n",
    "print(f\"Contraction path optimization took {format_time(path_opt_end - path_opt_start)}.\")"
   ]
  },
  {
   "cell_type": "code",
   "execution_count": 9,
   "id": "faf4150c-310d-446c-ad27-46b7e90be39d",
   "metadata": {},
   "outputs": [],
   "source": [
    "# Delete any previous entries in the file.\n",
    "output_file = \"./tensor_networks/samples.txt\"\n",
    "with open(output_file, \"w\") as f:\n",
    "    f.write(\"\")  # Clear file contents."
   ]
  },
  {
   "cell_type": "markdown",
   "id": "fd543503",
   "metadata": {},
   "source": [
    "### 📝 Sample and Log Output Bitstrings\n",
    "\n",
    "Here we perform the actual sampling from the optimized tensor network. Each sample gives us one possible outcome of the circuit measurement. We stream all results to a file for further analysis.  What makes this implementation lightweight a combination of everything we did before, setting `sample_batch_size` to 1, and off loading calculation to determine the strongest bitstring signal. Together all the steps within this system were selected with computational constraint in mind.\n",
    "\n",
    "> This is the culmination of everything we set up—from QASM parsing to optimizer rehearsal. If you're following the logic of tensor contraction and marginalization, this step shows how it all ties together. The process is repeatable and can be scaled to other circuits with similar structure."
   ]
  },
  {
   "cell_type": "code",
   "execution_count": 10,
   "id": "305202ce-8d6f-4245-ba67-14aa0db5ae4c",
   "metadata": {},
   "outputs": [
    {
     "name": "stdout",
     "output_type": "stream",
     "text": [
      "Starting continuous sampling and appending to file...\n",
      "Sample 1: 101000001001100100101000111101110111101000111010100011010110 (took 1 minutes 26.65 seconds)\n",
      "Sample 2: 111110010011000101110001011101101110100011101000100110001001 (took 1 minutes 26.07 seconds)\n",
      "Sample 3: 110101001011010101111001011100001110101101111010100110110001 (took 1 minutes 26.60 seconds)\n",
      "Sample 4: 110101101001100000011100001000000111001100110011100010010001 (took 1 minutes 27.22 seconds)\n",
      "Sample 5: 111000101011110101111101011100000010001111001011000110110001 (took 1 minutes 26.87 seconds)\n",
      "Sample 6: 100101101001110001111101010100000000001111000010100011111001 (took 1 minutes 27.04 seconds)\n",
      "Sample 7: 100111111001010110101101110110101011101111111101110010101001 (took 1 minutes 27.69 seconds)\n",
      "Sample 8: 111101000011001001101100011100001110101100111011100110110100 (took 1 minutes 25.93 seconds)\n",
      "Sample 9: 110101001001010001101111011100001111001001111010100110110110 (took 1 minutes 25.21 seconds)\n",
      "Sample 10: 101000101001110100110010010101110110001111000010110111111001 (took 1 minutes 27.01 seconds)\n",
      "Processed 10 samples in 14 minutes 26.30 seconds.\n",
      "Sample 11: 011001001011011101010001001111101110110001101000101110000000 (took 1 minutes 26.87 seconds)\n",
      "Sample 12: 110101001011010100110001010101111110001001101011100110010000 (took 1 minutes 27.45 seconds)\n",
      "Sample 13: 010111011011110111011011011110001010001111011010101101100100 (took 1 minutes 26.78 seconds)\n",
      "Sample 14: 110001101011001101110011111100001110101001101010110010110101 (took 1 minutes 26.01 seconds)\n",
      "Sample 15: 111100000001001100110001011100100011000101111010100110010000 (took 1 minutes 24.84 seconds)\n",
      "Sample 16: 110110011011110001111100000101101011111001100000101110010111 (took 1 minutes 27.73 seconds)\n",
      "Sample 17: 010111001011010101011011001001001110100011111010100110001101 (took 1 minutes 27.45 seconds)\n",
      "\n",
      "Target bitstring achieved after 17 samples in 24 minutes 33.44 seconds.\n",
      "Overall process took 24 minutes 33.44 seconds.\n"
     ]
    }
   ],
   "source": [
    "# Prepare to continuously sample and save each bitstring to a file.\n",
    "output_file = \"./tensor_networks/samples.txt\"\n",
    "with open(output_file, \"a\") as f:\n",
    "    print(\"Starting continuous sampling and appending to file...\")\n",
    "    sample_loop_start = time.perf_counter()\n",
    "    # Maintain position-wise counts for majority vote.\n",
    "    position_counts = [defaultdict(int) for _ in range(num_qubits)]\n",
    "    rng = np.random.default_rng(42)\n",
    "    sample_count = 0\n",
    "    found = False  # Flag to indicate when the target bitstring is achieved.\n",
    "\n",
    "    # Continuous sampling loop.\n",
    "    while True:\n",
    "        sample_iter_start = time.perf_counter()\n",
    "        # Generate one sample.\n",
    "        for b in tensor_network_circuit.sample_gate_by_gate(\n",
    "            subset_num_qubits,\n",
    "            group_size=group_size,\n",
    "            optimize=opt,\n",
    "            simplify_sequence=simplify_sequence,\n",
    "            seed=rng\n",
    "        ):\n",
    "            sample_iter_end = time.perf_counter()\n",
    "            sample_time = sample_iter_end - sample_iter_start\n",
    "            sample_count += 1\n",
    "            print(f\"Sample {sample_count}: {b} (took {format_time(sample_time)})\")\n",
    "            \n",
    "            # Write sample to file.\n",
    "            f.write(b + \"\\n\")\n",
    "            f.flush()  # Ensure persistence in case of interruption.\n",
    "            \n",
    "            # Update per-qubit counts.\n",
    "            for i, bit in enumerate(b):\n",
    "                position_counts[i][bit] += 1\n",
    "            \n",
    "            # Check current majority vote.\n",
    "            current_vote = compute_majority_vote(position_counts, num_qubits)\n",
    "            if current_vote == target_bitstring:\n",
    "                solution_time = time.perf_counter() - sample_loop_start\n",
    "                print(f\"\\nTarget bitstring achieved after {sample_count} samples in {format_time(solution_time)}.\")\n",
    "                found = True\n",
    "                break\n",
    "\n",
    "            # Reset timer for next sample.\n",
    "            sample_iter_start = time.perf_counter()\n",
    "            \n",
    "        # Exit the loop if target bitstring is achieved.\n",
    "        if found:\n",
    "            break\n",
    "\n",
    "        # Log total sampling time every 10 samples.\n",
    "        if sample_count % 10 == 0:\n",
    "            current_time = time.perf_counter()\n",
    "            elapsed = current_time - sample_loop_start\n",
    "            print(f\"Processed {sample_count} samples in {format_time(elapsed)}.\")\n",
    "\n",
    "overall_end = time.perf_counter()\n",
    "print(f\"Overall process took {format_time(overall_end - sample_loop_start)}.\")"
   ]
  }
 ],
 "metadata": {
  "kernelspec": {
   "display_name": "Python (myenv)",
   "language": "python",
   "name": "myenv"
  },
  "language_info": {
   "codemirror_mode": {
    "name": "ipython",
    "version": 3
   },
   "file_extension": ".py",
   "mimetype": "text/x-python",
   "name": "python",
   "nbconvert_exporter": "python",
   "pygments_lexer": "ipython3",
   "version": "3.9.6"
  }
 },
 "nbformat": 4,
 "nbformat_minor": 5
}
